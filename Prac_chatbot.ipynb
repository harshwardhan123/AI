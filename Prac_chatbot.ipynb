{
 "cells": [
  {
   "cell_type": "code",
   "execution_count": 1,
   "id": "147139ab",
   "metadata": {},
   "outputs": [],
   "source": [
    "import nltk\n",
    "from nltk.chat.util import Chat, reflections"
   ]
  },
  {
   "cell_type": "code",
   "execution_count": 2,
   "id": "574082b3",
   "metadata": {},
   "outputs": [],
   "source": [
    "pairs = [[r\"my name is (.*)\",\n",
    "        [\"Hello %1, How are you?\"]],\n",
    "    [r\"Hi|Hello|Hey there|Hola\",\n",
    "        [\"Hello, how can I assist you?\"]],\n",
    "    [r\"what is your name ?\",\n",
    "        [\"I am a chatbot\"]],\n",
    "    [r\"how are you ?\",\n",
    "    [\"I'm doing good. How about you?\"]],\n",
    "    [r\"sorry (.*)\",\n",
    "        [\"It's alright\", \"No problem\"]],\n",
    "    [r\"I am fine\",\n",
    "        [\"Great to hear that. How can I help you?\"]],\n",
    "    [r\"(.*) (good|great)\",\n",
    "        [\"Nice to hear that. How can I assist you?\"]],\n",
    "    [r\"(.*) age?\",\n",
    "        [\"I'm a computer program. Age doesn't apply to me.\"]],\n",
    "    [r\"what (.*) want ?\",\n",
    "        [\"Make me an offer I can't refuse.\"]],\n",
    "    [r\"(.*) created ?\",\n",
    "        [\"I was created using NLTK library.\", \"I'm a result of coding.\"]],\n",
    "    [r\"(.*) (location|city) ?\",\n",
    "        [\"I exist in the virtual world.\"]],\n",
    "    [r\"how is weather in (.*)?\",\n",
    "        [\"Weather in %1 is awesome!\", \"It's always sunny in %1.\"]],\n",
    "    [r\"i work in (.*)?\",\n",
    "        [\"%1 is a great company. How do you like working there?\"]],]"
   ]
  },
  {
   "cell_type": "code",
   "execution_count": 3,
   "id": "163d14da",
   "metadata": {},
   "outputs": [],
   "source": [
    "chatbot = Chat(pairs, reflections)"
   ]
  },
  {
   "cell_type": "code",
   "execution_count": null,
   "id": "28d48fbe",
   "metadata": {},
   "outputs": [
    {
     "name": "stdout",
     "output_type": "stream",
     "text": [
      "Hello! How can I assist you today?\n",
      "> hello\n",
      "Hello, how can I assist you?\n",
      "> my name is pratham\n",
      "Hello pratham, How are you?\n",
      "> i am fine\n",
      "Great to hear that. How can I help you?\n",
      "> what is your name\n",
      "I am a chatbot\n"
     ]
    }
   ],
   "source": [
    "print(\"Hello! How can I assist you today?\")\n",
    "while True:\n",
    "    user_input = input(\"> \")\n",
    "    if user_input.lower() == \"exit\":\n",
    "        break\n",
    "    response = chatbot.respond(user_input)\n",
    "    print(response)"
   ]
  },
  {
   "cell_type": "code",
   "execution_count": null,
   "id": "d4c8b736",
   "metadata": {},
   "outputs": [],
   "source": []
  }
 ],
 "metadata": {
  "kernelspec": {
   "display_name": "Python 3 (ipykernel)",
   "language": "python",
   "name": "python3"
  },
  "language_info": {
   "codemirror_mode": {
    "name": "ipython",
    "version": 3
   },
   "file_extension": ".py",
   "mimetype": "text/x-python",
   "name": "python",
   "nbconvert_exporter": "python",
   "pygments_lexer": "ipython3",
   "version": "3.10.9"
  }
 },
 "nbformat": 4,
 "nbformat_minor": 5
}
